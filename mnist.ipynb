{
 "cells": [
  {
   "cell_type": "code",
   "execution_count": 2,
   "id": "5de0488a",
   "metadata": {},
   "outputs": [
    {
     "name": "stderr",
     "output_type": "stream",
     "text": [
      "2022-10-17 15:26:39.504830: I tensorflow/core/platform/cpu_feature_guard.cc:193] This TensorFlow binary is optimized with oneAPI Deep Neural Network Library (oneDNN) to use the following CPU instructions in performance-critical operations:  AVX2 FMA\n",
      "To enable them in other operations, rebuild TensorFlow with the appropriate compiler flags.\n",
      "2022-10-17 15:26:39.600556: W tensorflow/stream_executor/platform/default/dso_loader.cc:64] Could not load dynamic library 'libcudart.so.11.0'; dlerror: libcudart.so.11.0: cannot open shared object file: No such file or directory\n",
      "2022-10-17 15:26:39.600571: I tensorflow/stream_executor/cuda/cudart_stub.cc:29] Ignore above cudart dlerror if you do not have a GPU set up on your machine.\n",
      "2022-10-17 15:26:39.622387: E tensorflow/stream_executor/cuda/cuda_blas.cc:2981] Unable to register cuBLAS factory: Attempting to register factory for plugin cuBLAS when one has already been registered\n",
      "2022-10-17 15:26:40.181843: W tensorflow/stream_executor/platform/default/dso_loader.cc:64] Could not load dynamic library 'libnvinfer.so.7'; dlerror: libnvinfer.so.7: cannot open shared object file: No such file or directory\n",
      "2022-10-17 15:26:40.181902: W tensorflow/stream_executor/platform/default/dso_loader.cc:64] Could not load dynamic library 'libnvinfer_plugin.so.7'; dlerror: libnvinfer_plugin.so.7: cannot open shared object file: No such file or directory\n",
      "2022-10-17 15:26:40.181908: W tensorflow/compiler/tf2tensorrt/utils/py_utils.cc:38] TF-TRT Warning: Cannot dlopen some TensorRT libraries. If you would like to use Nvidia GPU with TensorRT, please make sure the missing libraries mentioned above are installed properly.\n"
     ]
    }
   ],
   "source": [
    "import keras"
   ]
  },
  {
   "cell_type": "code",
   "execution_count": 3,
   "id": "06a07749",
   "metadata": {},
   "outputs": [],
   "source": [
    "import numpy as np"
   ]
  },
  {
   "cell_type": "code",
   "execution_count": 4,
   "id": "c053b9d9",
   "metadata": {},
   "outputs": [
    {
     "name": "stdout",
     "output_type": "stream",
     "text": [
      "(60000, 28, 28)\n",
      "(10000, 28, 28)\n"
     ]
    }
   ],
   "source": [
    "from keras.datasets import mnist\n",
    "\n",
    "(train_images, train_labels), (test_images, test_labels) = mnist.load_data()\n",
    "\n",
    "print(train_images.shape)\n",
    "print(test_images.shape)"
   ]
  },
  {
   "cell_type": "markdown",
   "id": "4e71ceaa",
   "metadata": {},
   "source": [
    "# Plotting some of the digits"
   ]
  },
  {
   "cell_type": "code",
   "execution_count": 5,
   "id": "e4c3e405",
   "metadata": {},
   "outputs": [
    {
     "data": {
      "image/png": "[encoded data removed]",
      "text/plain": [
       "<Figure size 432x288 with 12 Axes>"
      ]
     },
     "metadata": {
      "needs_background": "light"
     },
     "output_type": "display_data"
    }
   ],
   "source": [
    "import matplotlib.pyplot as plt\n",
    "\n",
    "for i in range(12):  \n",
    "    plt.subplot(4, 3, 1 + i)\n",
    "    plt.imshow(train_images[i], cmap=plt.get_cmap('gray'))\n",
    "    \n",
    "plt.show()\n"
   ]
  },
  {
   "cell_type": "markdown",
   "id": "dea00cb4",
   "metadata": {},
   "source": [
    "# Preprocessing the data "
   ]
  },
  {
   "cell_type": "code",
   "execution_count": 6,
   "id": "bf91527e",
   "metadata": {},
   "outputs": [],
   "source": [
    "train_images = train_images.reshape((60000, 28 * 28))\n",
    "train_images = train_images.astype(\"float32\") / 255"
   ]
  },
  {
   "cell_type": "code",
   "execution_count": 7,
   "id": "198bf72c",
   "metadata": {},
   "outputs": [],
   "source": [
    "test_images = test_images.reshape((10000, 28 * 28))\n",
    "test_images = test_images.astype(\"float32\") / 255"
   ]
  },
  {
   "cell_type": "markdown",
   "id": "cfe8f3b3",
   "metadata": {},
   "source": [
    "# Building a model"
   ]
  },
  {
   "cell_type": "code",
   "execution_count": 8,
   "id": "7ba58210",
   "metadata": {},
   "outputs": [],
   "source": [
    "from keras import layers"
   ]
  },
  {
   "cell_type": "code",
   "execution_count": 9,
   "id": "e72d4aeb",
   "metadata": {},
   "outputs": [
    {
     "name": "stderr",
     "output_type": "stream",
     "text": [
      "2022-10-17 15:30:45.218197: I tensorflow/stream_executor/cuda/cuda_gpu_executor.cc:980] successful NUMA node read from SysFS had negative value (-1), but there must be at least one NUMA node, so returning NUMA node zero\n",
      "2022-10-17 15:30:45.218621: W tensorflow/stream_executor/platform/default/dso_loader.cc:64] Could not load dynamic library 'libcudart.so.11.0'; dlerror: libcudart.so.11.0: cannot open shared object file: No such file or directory\n",
      "2022-10-17 15:30:45.218740: W tensorflow/stream_executor/platform/default/dso_loader.cc:64] Could not load dynamic library 'libcublas.so.11'; dlerror: libcublas.so.11: cannot open shared object file: No such file or directory\n",
      "2022-10-17 15:30:45.218847: W tensorflow/stream_executor/platform/default/dso_loader.cc:64] Could not load dynamic library 'libcublasLt.so.11'; dlerror: libcublasLt.so.11: cannot open shared object file: No such file or directory\n",
      "2022-10-17 15:30:45.218951: W tensorflow/stream_executor/platform/default/dso_loader.cc:64] Could not load dynamic library 'libcufft.so.10'; dlerror: libcufft.so.10: cannot open shared object file: No such file or directory\n",
      "2022-10-17 15:30:45.219053: W tensorflow/stream_executor/platform/default/dso_loader.cc:64] Could not load dynamic library 'libcurand.so.10'; dlerror: libcurand.so.10: cannot open shared object file: No such file or directory\n",
      "2022-10-17 15:30:45.219158: W tensorflow/stream_executor/platform/default/dso_loader.cc:64] Could not load dynamic library 'libcusolver.so.11'; dlerror: libcusolver.so.11: cannot open shared object file: No such file or directory\n",
      "2022-10-17 15:30:45.219259: W tensorflow/stream_executor/platform/default/dso_loader.cc:64] Could not load dynamic library 'libcusparse.so.11'; dlerror: libcusparse.so.11: cannot open shared object file: No such file or directory\n",
      "2022-10-17 15:30:45.219360: W tensorflow/stream_executor/platform/default/dso_loader.cc:64] Could not load dynamic library 'libcudnn.so.8'; dlerror: libcudnn.so.8: cannot open shared object file: No such file or directory\n",
      "2022-10-17 15:30:45.219375: W tensorflow/core/common_runtime/gpu/gpu_device.cc:1934] Cannot dlopen some GPU libraries. Please make sure the missing libraries mentioned above are installed properly if you would like to use GPU. Follow the guide at https://www.tensorflow.org/install/gpu for how to download and setup the required libraries for your platform.\n",
      "Skipping registering GPU devices...\n",
      "2022-10-17 15:30:45.219986: I tensorflow/core/platform/cpu_feature_guard.cc:193] This TensorFlow binary is optimized with oneAPI Deep Neural Network Library (oneDNN) to use the following CPU instructions in performance-critical operations:  AVX2 FMA\n",
      "To enable them in other operations, rebuild TensorFlow with the appropriate compiler flags.\n"
     ]
    }
   ],
   "source": [
    "model = keras.Sequential([\n",
    "        layers.Dense(256, activation=\"relu\"),\n",
    "        layers.Dense(10, activation=\"softmax\")])\n",
    "\n",
    "model.compile(optimizer=\"rmsprop\",\n",
    "              loss=\"sparse_categorical_crossentropy\",\n",
    "              metrics=[\"accuracy\"])"
   ]
  },
  {
   "cell_type": "markdown",
   "id": "4890f0ed",
   "metadata": {},
   "source": [
    "# Training the model and monitoring its performance"
   ]
  },
  {
   "cell_type": "code",
   "execution_count": 10,
   "id": "5d28e59c",
   "metadata": {},
   "outputs": [
    {
     "name": "stdout",
     "output_type": "stream",
     "text": [
      "Epoch 1/30\n",
      "282/282 [==============================] - 1s 4ms/step - loss: 0.3552 - accuracy: 0.9024 - val_loss: 0.2477 - val_accuracy: 0.9265\n",
      "Epoch 2/30\n",
      "282/282 [==============================] - 1s 3ms/step - loss: 0.1666 - accuracy: 0.9517 - val_loss: 0.1909 - val_accuracy: 0.9436\n",
      "Epoch 3/30\n",
      "282/282 [==============================] - 1s 3ms/step - loss: 0.1150 - accuracy: 0.9663 - val_loss: 0.1349 - val_accuracy: 0.9601\n",
      "Epoch 4/30\n",
      "282/282 [==============================] - 1s 3ms/step - loss: 0.0863 - accuracy: 0.9752 - val_loss: 0.1290 - val_accuracy: 0.9613\n",
      "Epoch 5/30\n",
      "282/282 [==============================] - 1s 3ms/step - loss: 0.0664 - accuracy: 0.9818 - val_loss: 0.1197 - val_accuracy: 0.9651\n",
      "Epoch 6/30\n",
      "282/282 [==============================] - 1s 3ms/step - loss: 0.0521 - accuracy: 0.9858 - val_loss: 0.1162 - val_accuracy: 0.9652\n",
      "Epoch 7/30\n",
      "282/282 [==============================] - 1s 3ms/step - loss: 0.0416 - accuracy: 0.9885 - val_loss: 0.1077 - val_accuracy: 0.9689\n",
      "Epoch 8/30\n",
      "282/282 [==============================] - 1s 3ms/step - loss: 0.0333 - accuracy: 0.9908 - val_loss: 0.1232 - val_accuracy: 0.9639\n",
      "Epoch 9/30\n",
      "282/282 [==============================] - 1s 3ms/step - loss: 0.0261 - accuracy: 0.9934 - val_loss: 0.0977 - val_accuracy: 0.9727\n",
      "Epoch 10/30\n",
      "282/282 [==============================] - 1s 3ms/step - loss: 0.0208 - accuracy: 0.9946 - val_loss: 0.1051 - val_accuracy: 0.9705\n",
      "Epoch 11/30\n",
      "282/282 [==============================] - 1s 3ms/step - loss: 0.0163 - accuracy: 0.9959 - val_loss: 0.1031 - val_accuracy: 0.9727\n",
      "Epoch 12/30\n",
      "282/282 [==============================] - 1s 3ms/step - loss: 0.0124 - accuracy: 0.9969 - val_loss: 0.1189 - val_accuracy: 0.9704\n",
      "Epoch 13/30\n",
      "282/282 [==============================] - 1s 3ms/step - loss: 0.0099 - accuracy: 0.9975 - val_loss: 0.1232 - val_accuracy: 0.9691\n",
      "Epoch 14/30\n",
      "282/282 [==============================] - 1s 3ms/step - loss: 0.0079 - accuracy: 0.9982 - val_loss: 0.1076 - val_accuracy: 0.9736\n",
      "Epoch 15/30\n",
      "282/282 [==============================] - 1s 3ms/step - loss: 0.0061 - accuracy: 0.9988 - val_loss: 0.1174 - val_accuracy: 0.9727\n",
      "Epoch 16/30\n",
      "282/282 [==============================] - 1s 3ms/step - loss: 0.0046 - accuracy: 0.9992 - val_loss: 0.1159 - val_accuracy: 0.9735\n",
      "Epoch 17/30\n",
      "282/282 [==============================] - 1s 3ms/step - loss: 0.0035 - accuracy: 0.9994 - val_loss: 0.1232 - val_accuracy: 0.9737\n",
      "Epoch 18/30\n",
      "282/282 [==============================] - 1s 3ms/step - loss: 0.0027 - accuracy: 0.9996 - val_loss: 0.1288 - val_accuracy: 0.9743\n",
      "Epoch 19/30\n",
      "282/282 [==============================] - 1s 3ms/step - loss: 0.0022 - accuracy: 0.9996 - val_loss: 0.1324 - val_accuracy: 0.9740\n",
      "Epoch 20/30\n",
      "282/282 [==============================] - 1s 3ms/step - loss: 0.0016 - accuracy: 0.9996 - val_loss: 0.1317 - val_accuracy: 0.9742\n",
      "Epoch 21/30\n",
      "282/282 [==============================] - 1s 3ms/step - loss: 0.0014 - accuracy: 0.9998 - val_loss: 0.1402 - val_accuracy: 0.9738\n",
      "Epoch 22/30\n",
      "282/282 [==============================] - 1s 3ms/step - loss: 0.0011 - accuracy: 0.9998 - val_loss: 0.1387 - val_accuracy: 0.9739\n",
      "Epoch 23/30\n",
      "282/282 [==============================] - 1s 3ms/step - loss: 9.0141e-04 - accuracy: 0.9999 - val_loss: 0.1430 - val_accuracy: 0.9735\n",
      "Epoch 24/30\n",
      "282/282 [==============================] - 1s 3ms/step - loss: 5.7162e-04 - accuracy: 1.0000 - val_loss: 0.1476 - val_accuracy: 0.9743\n",
      "Epoch 25/30\n",
      "282/282 [==============================] - 1s 3ms/step - loss: 4.6134e-04 - accuracy: 0.9999 - val_loss: 0.1500 - val_accuracy: 0.9747\n",
      "Epoch 26/30\n",
      "282/282 [==============================] - 1s 3ms/step - loss: 3.7196e-04 - accuracy: 0.9999 - val_loss: 0.1575 - val_accuracy: 0.9747\n",
      "Epoch 27/30\n",
      "282/282 [==============================] - 1s 3ms/step - loss: 3.0458e-04 - accuracy: 1.0000 - val_loss: 0.1575 - val_accuracy: 0.9741\n",
      "Epoch 28/30\n",
      "282/282 [==============================] - 1s 3ms/step - loss: 2.8046e-04 - accuracy: 0.9999 - val_loss: 0.1604 - val_accuracy: 0.9745\n",
      "Epoch 29/30\n",
      "282/282 [==============================] - 1s 3ms/step - loss: 3.0175e-04 - accuracy: 0.9999 - val_loss: 0.1732 - val_accuracy: 0.9743\n",
      "Epoch 30/30\n",
      "282/282 [==============================] - 1s 3ms/step - loss: 1.1810e-04 - accuracy: 1.0000 - val_loss: 0.1737 - val_accuracy: 0.9734\n"
     ]
    }
   ],
   "source": [
    "history = model.fit(train_images, train_labels, epochs=30, batch_size=128, validation_split=0.4)"
   ]
  },
  {
   "cell_type": "markdown",
   "id": "feeebc91",
   "metadata": {},
   "source": [
    "# Plotting the training and validation losses"
   ]
  },
  {
   "cell_type": "code",
   "execution_count": 11,
   "id": "e3a2887a",
   "metadata": {},
   "outputs": [
    {
     "data": {
      "image/png": "[encoded data removed]",
      "text/plain": [
       "<Figure size 432x288 with 1 Axes>"
      ]
     },
     "metadata": {
      "needs_background": "light"
     },
     "output_type": "display_data"
    }
   ],
   "source": [
    "import matplotlib.pyplot as plt\n",
    "\n",
    "history_dict = history.history\n",
    "loss_values = history_dict[\"loss\"]\n",
    "val_loss_values = history_dict[\"val_loss\"]\n",
    "epochs = range(1, len(loss_values) + 1)\n",
    "plt.plot(epochs, loss_values, \"bo\", label=\"Training loss\")\n",
    "plt.plot(epochs, val_loss_values, \"b\", label=\"Validation loss\")\n",
    "plt.title(\"Training and validation loss\")\n",
    "plt.xlabel(\"Epochs\")\n",
    "plt.ylabel(\"Loss\")\n",
    "plt.legend()\n",
    "plt.show()\n"
   ]
  },
  {
   "cell_type": "markdown",
   "id": "831c569f",
   "metadata": {},
   "source": [
    "# Evaluating the model on test data"
   ]
  },
  {
   "cell_type": "code",
   "execution_count": 12,
   "id": "adc1d814",
   "metadata": {},
   "outputs": [
    {
     "name": "stdout",
     "output_type": "stream",
     "text": [
      "313/313 [==============================] - 0s 916us/step - loss: 0.1361 - accuracy: 0.9778\n"
     ]
    }
   ],
   "source": [
    "results = model.evaluate(test_images, test_labels)"
   ]
  },
  {
   "cell_type": "code",
   "execution_count": 13,
   "id": "85b0900b",
   "metadata": {},
   "outputs": [
    {
     "data": {
      "text/plain": [
       "[0.13614240288734436, 0.9778000116348267]"
      ]
     },
     "execution_count": 13,
     "metadata": {},
     "output_type": "execute_result"
    }
   ],
   "source": [
    "results"
   ]
  },
  {
   "cell_type": "markdown",
   "id": "c6d14cb9",
   "metadata": {},
   "source": [
    "# Making a prediction about a particular test digit"
   ]
  },
  {
   "cell_type": "code",
   "execution_count": 14,
   "id": "1a8c65e0",
   "metadata": {},
   "outputs": [
    {
     "name": "stdout",
     "output_type": "stream",
     "text": [
      "1/1 [==============================] - 0s 48ms/step\n"
     ]
    },
    {
     "data": {
      "text/plain": [
       "7"
      ]
     },
     "execution_count": 14,
     "metadata": {},
     "output_type": "execute_result"
    }
   ],
   "source": [
    "predictions = model.predict(test_images[79].reshape(1, 784))\n",
    "predictions.argmax()"
   ]
  },
  {
   "cell_type": "markdown",
   "id": "9c7483f3",
   "metadata": {},
   "source": [
    "# Comparing the model prediction with the actual data"
   ]
  },
  {
   "cell_type": "code",
   "execution_count": 16,
   "id": "62e94249",
   "metadata": {},
   "outputs": [
    {
     "data": {
      "image/png": "[encoded data removed]",
      "text/plain": [
       "<Figure size 432x288 with 1 Axes>"
      ]
     },
     "metadata": {
      "needs_background": "light"
     },
     "output_type": "display_data"
    }
   ],
   "source": [
    "(train_images, train_labels), (test_images, test_labels) = mnist.load_data()\n",
    "\n",
    "plt.imshow(test_images[79], cmap=plt.get_cmap('gray'))\n",
    "plt.show()"
   ]
  },
  {
   "cell_type": "code",
   "execution_count": 17,
   "id": "dd98e1dd",
   "metadata": {},
   "outputs": [
    {
     "data": {
      "text/plain": [
       "7"
      ]
     },
     "execution_count": 17,
     "metadata": {},
     "output_type": "execute_result"
    }
   ],
   "source": [
    "test_labels[79]"
   ]
  },
  {
   "cell_type": "code",
   "execution_count": null,
   "id": "4794a9d7",
   "metadata": {},
   "outputs": [],
   "source": []
  }
 ],
 "metadata": {
  "kernelspec": {
   "display_name": "Python 3",
   "language": "python",
   "name": "python3"
  },
  "language_info": {
   "codemirror_mode": {
    "name": "ipython",
    "version": 3
   },
   "file_extension": ".py",
   "mimetype": "text/x-python",
   "name": "python",
   "nbconvert_exporter": "python",
   "pygments_lexer": "ipython3",
   "version": "3.10.6"
  }
 },
 "nbformat": 4,
 "nbformat_minor": 5
}
