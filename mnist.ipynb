{
 "cells": [
  {
   "cell_type": "code",
   "execution_count": 2,
   "id": "5de0488a",
   "metadata": {},
   "outputs": [],
   "source": [
    "import keras"
   ]
  },
  {
   "cell_type": "code",
   "execution_count": 3,
   "id": "06a07749",
   "metadata": {},
   "outputs": [],
   "source": [
    "import numpy as np"
   ]
  },
  {
   "cell_type": "code",
   "execution_count": 4,
   "id": "c053b9d9",
   "metadata": {},
   "outputs": [
    {
     "name": "stdout",
     "output_type": "stream",
     "text": [
      "(60000, 28, 28)\n",
      "(10000, 28, 28)\n"
     ]
    }
   ],
   "source": [
    "from keras.datasets import mnist\n",
    "\n",
    "(train_images, train_labels), (test_images, test_labels) = mnist.load_data()\n",
    "\n",
    "print(train_images.shape)\n",
    "print(test_images.shape)"
   ]
  },
  {
   "cell_type": "markdown",
   "id": "4e71ceaa",
   "metadata": {},
   "source": [
    "# Plotting some of the digits"
   ]
  },
  {
   "cell_type": "code",
   "execution_count": 5,
   "id": "e4c3e405",
   "metadata": {},
   "outputs": [
    {
     "data": {
      "image/png": "[encoded data removed]",
      "text/plain": [
       "<Figure size 432x288 with 12 Axes>"
      ]
     },
     "metadata": {
      "needs_background": "light"
     },
     "output_type": "display_data"
    }
   ],
   "source": [
    "import matplotlib.pyplot as plt\n",
    "\n",
    "for i in range(12):  \n",
    "    plt.subplot(4, 3, 1 + i)\n",
    "    plt.imshow(train_images[i], cmap=plt.get_cmap('gray'))\n",
    "    \n",
    "plt.show()\n"
   ]
  },
  {
   "cell_type": "markdown",
   "id": "dea00cb4",
   "metadata": {},
   "source": [
    "# Preprocessing the data "
   ]
  },
  {
   "cell_type": "code",
   "execution_count": 6,
   "id": "bf91527e",
   "metadata": {},
   "outputs": [],
   "source": [
    "train_images = train_images.reshape((60000, 28 * 28))\n",
    "train_images = train_images.astype(\"float32\") / 255"
   ]
  },
  {
   "cell_type": "code",
   "execution_count": 7,
   "id": "198bf72c",
   "metadata": {},
   "outputs": [],
   "source": [
    "test_images = test_images.reshape((10000, 28 * 28))\n",
    "test_images = test_images.astype(\"float32\") / 255"
   ]
  },
  {
   "cell_type": "markdown",
   "id": "cfe8f3b3",
   "metadata": {},
   "source": [
    "# Building a model"
   ]
  },
  {
   "cell_type": "code",
   "execution_count": 8,
   "id": "7ba58210",
   "metadata": {},
   "outputs": [],
   "source": [
    "from keras import layers"
   ]
  },
  {
   "cell_type": "code",
   "execution_count": 10,
   "id": "e72d4aeb",
   "metadata": {},
   "outputs": [],
   "source": [
    "model = keras.Sequential([\n",
    "        layers.Dense(256, activation=\"relu\"),\n",
    "        layers.Dense(10, activation=\"softmax\")])\n",
    "\n",
    "model.compile(optimizer=\"rmsprop\",\n",
    "              loss=\"sparse_categorical_crossentropy\",\n",
    "              metrics=[\"accuracy\"])"
   ]
  },
  {
   "cell_type": "markdown",
   "id": "4890f0ed",
   "metadata": {},
   "source": [
    "# Training the model and monitoring its performance"
   ]
  },
  {
   "cell_type": "code",
   "execution_count": 11,
   "id": "5d28e59c",
   "metadata": {},
   "outputs": [
    {
     "name": "stdout",
     "output_type": "stream",
     "text": [
      "Epoch 1/30\n",
      "282/282 [==============================] - 2s 4ms/step - loss: 0.3539 - accuracy: 0.9011 - val_loss: 0.2555 - val_accuracy: 0.9238\n",
      "Epoch 2/30\n",
      "282/282 [==============================] - 1s 3ms/step - loss: 0.1634 - accuracy: 0.9529 - val_loss: 0.1690 - val_accuracy: 0.9514\n",
      "Epoch 3/30\n",
      "282/282 [==============================] - 1s 3ms/step - loss: 0.1110 - accuracy: 0.9676 - val_loss: 0.1519 - val_accuracy: 0.9531\n",
      "Epoch 4/30\n",
      "282/282 [==============================] - 1s 3ms/step - loss: 0.0832 - accuracy: 0.9755 - val_loss: 0.1111 - val_accuracy: 0.9673\n",
      "Epoch 5/30\n",
      "282/282 [==============================] - 1s 3ms/step - loss: 0.0643 - accuracy: 0.9817 - val_loss: 0.1081 - val_accuracy: 0.9676\n",
      "Epoch 6/30\n",
      "282/282 [==============================] - 1s 3ms/step - loss: 0.0507 - accuracy: 0.9857 - val_loss: 0.1039 - val_accuracy: 0.9697\n",
      "Epoch 7/30\n",
      "282/282 [==============================] - 1s 3ms/step - loss: 0.0399 - accuracy: 0.9893 - val_loss: 0.1004 - val_accuracy: 0.9707\n",
      "Epoch 8/30\n",
      "282/282 [==============================] - 1s 3ms/step - loss: 0.0322 - accuracy: 0.9911 - val_loss: 0.1002 - val_accuracy: 0.9722\n",
      "Epoch 9/30\n",
      "282/282 [==============================] - 1s 3ms/step - loss: 0.0261 - accuracy: 0.9931 - val_loss: 0.0999 - val_accuracy: 0.9726\n",
      "Epoch 10/30\n",
      "282/282 [==============================] - 1s 3ms/step - loss: 0.0208 - accuracy: 0.9947 - val_loss: 0.1002 - val_accuracy: 0.9730\n",
      "Epoch 11/30\n",
      "282/282 [==============================] - 1s 3ms/step - loss: 0.0170 - accuracy: 0.9954 - val_loss: 0.1012 - val_accuracy: 0.9729\n",
      "Epoch 12/30\n",
      "282/282 [==============================] - 1s 3ms/step - loss: 0.0129 - accuracy: 0.9969 - val_loss: 0.1060 - val_accuracy: 0.9715\n",
      "Epoch 13/30\n",
      "282/282 [==============================] - 1s 3ms/step - loss: 0.0102 - accuracy: 0.9977 - val_loss: 0.1039 - val_accuracy: 0.9735\n",
      "Epoch 14/30\n",
      "282/282 [==============================] - 1s 3ms/step - loss: 0.0083 - accuracy: 0.9983 - val_loss: 0.1108 - val_accuracy: 0.9736\n",
      "Epoch 15/30\n",
      "282/282 [==============================] - 1s 3ms/step - loss: 0.0066 - accuracy: 0.9986 - val_loss: 0.1115 - val_accuracy: 0.9743\n",
      "Epoch 16/30\n",
      "282/282 [==============================] - 1s 3ms/step - loss: 0.0051 - accuracy: 0.9991 - val_loss: 0.1129 - val_accuracy: 0.9738\n",
      "Epoch 17/30\n",
      "282/282 [==============================] - 1s 3ms/step - loss: 0.0041 - accuracy: 0.9993 - val_loss: 0.1382 - val_accuracy: 0.9696\n",
      "Epoch 18/30\n",
      "282/282 [==============================] - 1s 3ms/step - loss: 0.0031 - accuracy: 0.9994 - val_loss: 0.1272 - val_accuracy: 0.9732\n",
      "Epoch 19/30\n",
      "282/282 [==============================] - 1s 3ms/step - loss: 0.0023 - accuracy: 0.9997 - val_loss: 0.1228 - val_accuracy: 0.9745\n",
      "Epoch 20/30\n",
      "282/282 [==============================] - 1s 3ms/step - loss: 0.0018 - accuracy: 0.9997 - val_loss: 0.1281 - val_accuracy: 0.9746\n",
      "Epoch 21/30\n",
      "282/282 [==============================] - 1s 3ms/step - loss: 0.0015 - accuracy: 0.9998 - val_loss: 0.1295 - val_accuracy: 0.9750\n",
      "Epoch 22/30\n",
      "282/282 [==============================] - 1s 3ms/step - loss: 0.0013 - accuracy: 0.9998 - val_loss: 0.1304 - val_accuracy: 0.9751\n",
      "Epoch 23/30\n",
      "282/282 [==============================] - 1s 3ms/step - loss: 0.0010 - accuracy: 0.9998 - val_loss: 0.1366 - val_accuracy: 0.9744\n",
      "Epoch 24/30\n",
      "282/282 [==============================] - 1s 3ms/step - loss: 7.4311e-04 - accuracy: 0.9999 - val_loss: 0.1411 - val_accuracy: 0.9746\n",
      "Epoch 25/30\n",
      "282/282 [==============================] - 1s 3ms/step - loss: 5.9614e-04 - accuracy: 0.9999 - val_loss: 0.1450 - val_accuracy: 0.9746\n",
      "Epoch 26/30\n",
      "282/282 [==============================] - 1s 3ms/step - loss: 5.4710e-04 - accuracy: 0.9999 - val_loss: 0.1498 - val_accuracy: 0.9750\n",
      "Epoch 27/30\n",
      "282/282 [==============================] - 1s 3ms/step - loss: 3.9321e-04 - accuracy: 1.0000 - val_loss: 0.1511 - val_accuracy: 0.9748\n",
      "Epoch 28/30\n",
      "282/282 [==============================] - 1s 3ms/step - loss: 3.2104e-04 - accuracy: 0.9999 - val_loss: 0.1533 - val_accuracy: 0.9754\n",
      "Epoch 29/30\n",
      "282/282 [==============================] - 1s 3ms/step - loss: 2.8044e-04 - accuracy: 0.9999 - val_loss: 0.1654 - val_accuracy: 0.9749\n",
      "Epoch 30/30\n",
      "282/282 [==============================] - 1s 3ms/step - loss: 1.6864e-04 - accuracy: 1.0000 - val_loss: 0.1673 - val_accuracy: 0.9750\n"
     ]
    }
   ],
   "source": [
    "history = model.fit(train_images, train_labels, epochs=30, batch_size=128, validation_split=0.4)"
   ]
  },
  {
   "cell_type": "markdown",
   "id": "feeebc91",
   "metadata": {},
   "source": [
    "# Plotting the training and validation losses"
   ]
  },
  {
   "cell_type": "code",
   "execution_count": 12,
   "id": "e3a2887a",
   "metadata": {},
   "outputs": [
    {
     "data": {
      "image/png": "[encoded data removed]",
      "text/plain": [
       "<Figure size 432x288 with 1 Axes>"
      ]
     },
     "metadata": {
      "needs_background": "light"
     },
     "output_type": "display_data"
    }
   ],
   "source": [
    "import matplotlib.pyplot as plt\n",
    "\n",
    "history_dict = history.history\n",
    "loss_values = history_dict[\"loss\"]\n",
    "val_loss_values = history_dict[\"val_loss\"]\n",
    "epochs = range(1, len(loss_values) + 1)\n",
    "plt.plot(epochs, loss_values, \"bo\", label=\"Training loss\")\n",
    "plt.plot(epochs, val_loss_values, \"b\", label=\"Validation loss\")\n",
    "plt.title(\"Training and validation loss\")\n",
    "plt.xlabel(\"Epochs\")\n",
    "plt.ylabel(\"Loss\")\n",
    "plt.legend()\n",
    "plt.show()\n"
   ]
  },
  {
   "cell_type": "markdown",
   "id": "831c569f",
   "metadata": {},
   "source": [
    "# Evaluating the model on test data"
   ]
  },
  {
   "cell_type": "code",
   "execution_count": 13,
   "id": "adc1d814",
   "metadata": {},
   "outputs": [
    {
     "name": "stdout",
     "output_type": "stream",
     "text": [
      "313/313 [==============================] - 0s 943us/step - loss: 0.1301 - accuracy: 0.9773\n"
     ]
    }
   ],
   "source": [
    "results = model.evaluate(test_images, test_labels)"
   ]
  },
  {
   "cell_type": "code",
   "execution_count": 14,
   "id": "85b0900b",
   "metadata": {},
   "outputs": [
    {
     "data": {
      "text/plain": [
       "[0.13013234734535217, 0.9772999882698059]"
      ]
     },
     "execution_count": 14,
     "metadata": {},
     "output_type": "execute_result"
    }
   ],
   "source": [
    "results"
   ]
  },
  {
   "cell_type": "markdown",
   "id": "c6d14cb9",
   "metadata": {},
   "source": [
    "# Making a prediction about a particular test digit"
   ]
  },
  {
   "cell_type": "code",
   "execution_count": 15,
   "id": "1a8c65e0",
   "metadata": {},
   "outputs": [
    {
     "name": "stdout",
     "output_type": "stream",
     "text": [
      "1/1 [==============================] - 0s 47ms/step\n"
     ]
    },
    {
     "data": {
      "text/plain": [
       "7"
      ]
     },
     "execution_count": 15,
     "metadata": {},
     "output_type": "execute_result"
    }
   ],
   "source": [
    "predictions = model.predict(test_images[79].reshape(1, 784))\n",
    "predictions.argmax()"
   ]
  },
  {
   "cell_type": "markdown",
   "id": "9c7483f3",
   "metadata": {},
   "source": [
    "# Comparing the model prediction with the actual data"
   ]
  },
  {
   "cell_type": "code",
   "execution_count": 16,
   "id": "62e94249",
   "metadata": {},
   "outputs": [
    {
     "data": {
      "image/png": "[encoded data removed]",
      "text/plain": [
       "<Figure size 432x288 with 1 Axes>"
      ]
     },
     "metadata": {
      "needs_background": "light"
     },
     "output_type": "display_data"
    }
   ],
   "source": [
    "(train_images, train_labels), (test_images, test_labels) = mnist.load_data()\n",
    "\n",
    "plt.imshow(test_images[79], cmap=plt.get_cmap('gray'))\n",
    "plt.show()"
   ]
  },
  {
   "cell_type": "code",
   "execution_count": 17,
   "id": "dd98e1dd",
   "metadata": {},
   "outputs": [
    {
     "data": {
      "text/plain": [
       "7"
      ]
     },
     "execution_count": 17,
     "metadata": {},
     "output_type": "execute_result"
    }
   ],
   "source": [
    "test_labels[79]"
   ]
  },
  {
   "cell_type": "code",
   "execution_count": null,
   "id": "4794a9d7",
   "metadata": {},
   "outputs": [],
   "source": []
  }
 ],
 "metadata": {
  "kernelspec": {
   "display_name": "Python 3",
   "language": "python",
   "name": "python3"
  },
  "language_info": {
   "codemirror_mode": {
    "name": "ipython",
    "version": 3
   },
   "file_extension": ".py",
   "mimetype": "text/x-python",
   "name": "python",
   "nbconvert_exporter": "python",
   "pygments_lexer": "ipython3",
   "version": "3.10.6"
  }
 },
 "nbformat": 4,
 "nbformat_minor": 5
}
